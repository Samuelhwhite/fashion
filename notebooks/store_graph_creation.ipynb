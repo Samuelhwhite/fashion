{
 "cells": [
  {
   "cell_type": "code",
   "execution_count": null,
   "metadata": {
    "pycharm": {
     "name": "#%%\n"
    }
   },
   "outputs": [],
   "source": [
    "import numpy as np\n",
    "import pandas as pd\n",
    "import time\n",
    "import matplotlib.pyplot as plt\n",
    "import itertools\n",
    "import sys\n",
    "sys.path.insert(0, '..')\n",
    "import fashion.preprocessing as prep\n",
    "# display all columns\n",
    "pd.set_option('display.max_columns', None)\n",
    "\n",
    "# show all results of the notebook not just the last one\n",
    "from IPython.core.interactiveshell import InteractiveShell\n",
    "InteractiveShell.ast_node_interactivity = \"all\"\n"
   ]
  },
  {
   "cell_type": "code",
   "execution_count": null,
   "metadata": {
    "pycharm": {
     "name": "#%%\n"
    }
   },
   "outputs": [],
   "source": [
    "shops = prep.load_shops('../data/20200120_filiali.csv', extra_info=False)\n",
    "shops.head()\n"
   ]
  },
  {
   "cell_type": "code",
   "execution_count": null,
   "metadata": {},
   "outputs": [],
   "source": []
  },
  {
   "cell_type": "code",
   "execution_count": null,
   "metadata": {
    "pycharm": {
     "name": "#%%\n"
    }
   },
   "outputs": [],
   "source": []
  },
  {
   "cell_type": "code",
   "execution_count": null,
   "metadata": {},
   "outputs": [],
   "source": []
  },
  {
   "cell_type": "code",
   "execution_count": null,
   "metadata": {},
   "outputs": [],
   "source": [
    "from tqdm.notebook import tqdm\n",
    "\n",
    "import pgeocode\n",
    "dist = pgeocode.GeoDistance('it')\n",
    "\n",
    "dist.query_postal_code(\"95024\", \"80021\")\n",
    "\n",
    "\n",
    "adjacency_list = []\n",
    "\n",
    "for x_index, x in tqdm(shops.iterrows()):\n",
    "    for y_index, y in (shops.iterrows()):\n",
    "        if y_index <= x_index:\n",
    "            pass\n",
    "        else:\n",
    "            z_weight = dist.query_postal_code(x.ZipCode, y.ZipCode)\n",
    "            \n",
    "            adjacency_list.append([x_index,y_index,z_weight])\n",
    "            \n",
    "data_transposed = zip(adjacency_list)\n",
    "\n",
    "columns = ['node1','node2','weight']\n",
    "\n",
    "adjacency_frame = pd.DataFrame(adjacency_list, columns = columns)\n",
    "\n",
    "\n",
    "adjacency_frame.to_csv(r'store_adjacency.csv')"
   ]
  },
  {
   "cell_type": "code",
   "execution_count": null,
   "metadata": {},
   "outputs": [],
   "source": [
    "\n"
   ]
  },
  {
   "cell_type": "code",
   "execution_count": null,
   "metadata": {},
   "outputs": [],
   "source": [
    "adjacency_frame.head()\n",
    "\n"
   ]
  },
  {
   "cell_type": "code",
   "execution_count": null,
   "metadata": {},
   "outputs": [],
   "source": []
  }
 ],
 "metadata": {
  "kernelspec": {
   "display_name": "Python 3",
   "language": "python",
   "name": "python3"
  },
  "language_info": {
   "codemirror_mode": {
    "name": "ipython",
    "version": 3
   },
   "file_extension": ".py",
   "mimetype": "text/x-python",
   "name": "python",
   "nbconvert_exporter": "python",
   "pygments_lexer": "ipython3",
   "version": "3.7.6"
  },
  "pycharm": {
   "stem_cell": {
    "cell_type": "raw",
    "metadata": {
     "collapsed": false
    },
    "source": []
   }
  }
 },
 "nbformat": 4,
 "nbformat_minor": 1
}
