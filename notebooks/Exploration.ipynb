{
 "cells": [
  {
   "cell_type": "code",
   "execution_count": 1,
   "metadata": {},
   "outputs": [],
   "source": [
    "import numpy as np\n",
    "import pandas as pd\n",
    "import time\n",
    "import matplotlib.pyplot as plt\n",
    "import itertools\n",
    "import sys\n",
    "sys.path.insert(0, '..')\n",
    "import fashion.preprocessing as prep\n",
    "# display all columns\n",
    "pd.set_option('display.max_columns', None)\n",
    "\n",
    "# show all results of the notebook not just the last one\n",
    "from IPython.core.interactiveshell import InteractiveShell\n",
    "InteractiveShell.ast_node_interactivity = \"all\""
   ]
  },
  {
   "cell_type": "code",
   "execution_count": null,
   "metadata": {},
   "outputs": [],
   "source": [
    "def find_sales(date, store, ean, df):\n",
    "    return(len(df[(df['Date'] == date) and\n",
    "                  (df['StoreKey'] == store) and\n",
    "                  (df['EAN'] == ean)]))\n",
    "\n",
    "\n",
    "def random_data_sampler(num_samples,\n",
    "                        shops=load_shops(extra_info=False),\n",
    "                        sales=load_sales(),\n",
    "                        products=load_products()):\n",
    "\n",
    "    Variables = [sales.Date.unique(),\n",
    "                 shops.StoreKey.unique(),\n",
    "                 products.EAN.unique()]\n",
    "\n",
    "    Date, Store, EAN =(np.random.choice(x, num_samples) for x in Variables)\n",
    "\n",
    "    df = pd.DataFrame(list(zip(Date, Store, EAN)),\n",
    "                      columns=['Date', 'Store', 'EAN'])\n",
    "\n",
    "    df['sales_count'] = df.apply(lambda row: find_sales(row['Date'],\n",
    "                                                        row['Store'],\n",
    "                                                        row['EAN'],\n",
    "                                                        products), axis=1)\n",
    "\n",
    "    return(df)"
   ]
  },
  {
   "cell_type": "code",
   "execution_count": 14,
   "metadata": {},
   "outputs": [
    {
     "data": {
      "text/html": [
       "<div>\n",
       "<style scoped>\n",
       "    .dataframe tbody tr th:only-of-type {\n",
       "        vertical-align: middle;\n",
       "    }\n",
       "\n",
       "    .dataframe tbody tr th {\n",
       "        vertical-align: top;\n",
       "    }\n",
       "\n",
       "    .dataframe thead th {\n",
       "        text-align: right;\n",
       "    }\n",
       "</style>\n",
       "<table border=\"1\" class=\"dataframe\">\n",
       "  <thead>\n",
       "    <tr style=\"text-align: right;\">\n",
       "      <th></th>\n",
       "      <th>StoreKey</th>\n",
       "      <th>Franchise</th>\n",
       "      <th>StoreType</th>\n",
       "      <th>ZipCode</th>\n",
       "      <th>City</th>\n",
       "    </tr>\n",
       "  </thead>\n",
       "  <tbody>\n",
       "    <tr>\n",
       "      <th>0</th>\n",
       "      <td>2d459c389e1a0561a2953b95cfdc0caa</td>\n",
       "      <td>True</td>\n",
       "      <td>Store</td>\n",
       "      <td>95024</td>\n",
       "      <td>ACIREALE</td>\n",
       "    </tr>\n",
       "    <tr>\n",
       "      <th>1</th>\n",
       "      <td>c93364d5937332fea742adf1bb0fd67e</td>\n",
       "      <td>False</td>\n",
       "      <td>Store</td>\n",
       "      <td>37010</td>\n",
       "      <td>AFFI</td>\n",
       "    </tr>\n",
       "    <tr>\n",
       "      <th>2</th>\n",
       "      <td>8316b325ea6fd3bdeb794ffb649eb556</td>\n",
       "      <td>False</td>\n",
       "      <td>Store</td>\n",
       "      <td>80021</td>\n",
       "      <td>AFRAGOLA</td>\n",
       "    </tr>\n",
       "    <tr>\n",
       "      <th>3</th>\n",
       "      <td>c359def3032833a2ebbc12c8948a18f3</td>\n",
       "      <td>False</td>\n",
       "      <td>Store</td>\n",
       "      <td>51031</td>\n",
       "      <td>AGLIANA</td>\n",
       "    </tr>\n",
       "    <tr>\n",
       "      <th>4</th>\n",
       "      <td>293e777d87dea6fe28930c91bb2f99fa</td>\n",
       "      <td>True</td>\n",
       "      <td>Store</td>\n",
       "      <td>86081</td>\n",
       "      <td>AGNONE</td>\n",
       "    </tr>\n",
       "  </tbody>\n",
       "</table>\n",
       "</div>"
      ],
      "text/plain": [
       "                           StoreKey  Franchise StoreType ZipCode      City\n",
       "0  2d459c389e1a0561a2953b95cfdc0caa       True     Store   95024  ACIREALE\n",
       "1  c93364d5937332fea742adf1bb0fd67e      False     Store   37010      AFFI\n",
       "2  8316b325ea6fd3bdeb794ffb649eb556      False     Store   80021  AFRAGOLA\n",
       "3  c359def3032833a2ebbc12c8948a18f3      False     Store   51031   AGLIANA\n",
       "4  293e777d87dea6fe28930c91bb2f99fa       True     Store   86081    AGNONE"
      ]
     },
     "execution_count": 14,
     "metadata": {},
     "output_type": "execute_result"
    }
   ],
   "source": [
    "shops = prep.load_shops('../data/20200120_filiali.csv', extra_info=False)\n",
    "shops.head()"
   ]
  },
  {
   "cell_type": "code",
   "execution_count": 15,
   "metadata": {},
   "outputs": [
    {
     "data": {
      "text/plain": [
       "<module 'fashion.preprocessing' from '..\\\\fashion\\\\preprocessing.py'>"
      ]
     },
     "execution_count": 15,
     "metadata": {},
     "output_type": "execute_result"
    },
    {
     "data": {
      "text/html": [
       "<div>\n",
       "<style scoped>\n",
       "    .dataframe tbody tr th:only-of-type {\n",
       "        vertical-align: middle;\n",
       "    }\n",
       "\n",
       "    .dataframe tbody tr th {\n",
       "        vertical-align: top;\n",
       "    }\n",
       "\n",
       "    .dataframe thead th {\n",
       "        text-align: right;\n",
       "    }\n",
       "</style>\n",
       "<table border=\"1\" class=\"dataframe\">\n",
       "  <thead>\n",
       "    <tr style=\"text-align: right;\">\n",
       "      <th></th>\n",
       "      <th>StoreKey</th>\n",
       "      <th>ReceiptKey</th>\n",
       "      <th>Date</th>\n",
       "      <th>Hour</th>\n",
       "      <th>EAN</th>\n",
       "      <th>Volume</th>\n",
       "      <th>NetIncome</th>\n",
       "    </tr>\n",
       "  </thead>\n",
       "  <tbody>\n",
       "    <tr>\n",
       "      <th>0</th>\n",
       "      <td>2d459c389e1a0561a2953b95cfdc0caa</td>\n",
       "      <td>160217</td>\n",
       "      <td>20161210</td>\n",
       "      <td>1318</td>\n",
       "      <td>2088988001033</td>\n",
       "      <td>1</td>\n",
       "      <td>19.95</td>\n",
       "    </tr>\n",
       "    <tr>\n",
       "      <th>1</th>\n",
       "      <td>2d459c389e1a0561a2953b95cfdc0caa</td>\n",
       "      <td>160253</td>\n",
       "      <td>20161210</td>\n",
       "      <td>1634</td>\n",
       "      <td>2088988001033</td>\n",
       "      <td>1</td>\n",
       "      <td>19.95</td>\n",
       "    </tr>\n",
       "    <tr>\n",
       "      <th>2</th>\n",
       "      <td>2d459c389e1a0561a2953b95cfdc0caa</td>\n",
       "      <td>160319</td>\n",
       "      <td>20161210</td>\n",
       "      <td>1911</td>\n",
       "      <td>2088988001057</td>\n",
       "      <td>1</td>\n",
       "      <td>19.95</td>\n",
       "    </tr>\n",
       "    <tr>\n",
       "      <th>3</th>\n",
       "      <td>2d459c389e1a0561a2953b95cfdc0caa</td>\n",
       "      <td>160330</td>\n",
       "      <td>20161210</td>\n",
       "      <td>1931</td>\n",
       "      <td>2088988001064</td>\n",
       "      <td>1</td>\n",
       "      <td>19.95</td>\n",
       "    </tr>\n",
       "    <tr>\n",
       "      <th>4</th>\n",
       "      <td>2d459c389e1a0561a2953b95cfdc0caa</td>\n",
       "      <td>160499</td>\n",
       "      <td>20161211</td>\n",
       "      <td>1747</td>\n",
       "      <td>2088986001042</td>\n",
       "      <td>1</td>\n",
       "      <td>19.95</td>\n",
       "    </tr>\n",
       "  </tbody>\n",
       "</table>\n",
       "</div>"
      ],
      "text/plain": [
       "                           StoreKey  ReceiptKey      Date  Hour  \\\n",
       "0  2d459c389e1a0561a2953b95cfdc0caa      160217  20161210  1318   \n",
       "1  2d459c389e1a0561a2953b95cfdc0caa      160253  20161210  1634   \n",
       "2  2d459c389e1a0561a2953b95cfdc0caa      160319  20161210  1911   \n",
       "3  2d459c389e1a0561a2953b95cfdc0caa      160330  20161210  1931   \n",
       "4  2d459c389e1a0561a2953b95cfdc0caa      160499  20161211  1747   \n",
       "\n",
       "             EAN  Volume  NetIncome  \n",
       "0  2088988001033       1      19.95  \n",
       "1  2088988001033       1      19.95  \n",
       "2  2088988001057       1      19.95  \n",
       "3  2088988001064       1      19.95  \n",
       "4  2088986001042       1      19.95  "
      ]
     },
     "execution_count": 15,
     "metadata": {},
     "output_type": "execute_result"
    },
    {
     "data": {
      "text/plain": [
       "32034755"
      ]
     },
     "execution_count": 15,
     "metadata": {},
     "output_type": "execute_result"
    }
   ],
   "source": [
    "import importlib\n",
    "importlib.reload(prep)\n",
    "\n",
    "sales17 = prep.load_sales('../data/20200120_sales17.csv', shops)\n",
    "sales17.head()\n",
    "len(sales17)"
   ]
  },
  {
   "cell_type": "code",
   "execution_count": null,
   "metadata": {},
   "outputs": [],
   "source": [
    "sales17.dtypes"
   ]
  },
  {
   "cell_type": "code",
   "execution_count": 17,
   "metadata": {},
   "outputs": [
    {
     "data": {
      "text/plain": [
       "<module 'fashion.preprocessing' from '..\\\\fashion\\\\preprocessing.py'>"
      ]
     },
     "execution_count": 17,
     "metadata": {},
     "output_type": "execute_result"
    },
    {
     "data": {
      "text/html": [
       "<div>\n",
       "<style scoped>\n",
       "    .dataframe tbody tr th:only-of-type {\n",
       "        vertical-align: middle;\n",
       "    }\n",
       "\n",
       "    .dataframe tbody tr th {\n",
       "        vertical-align: top;\n",
       "    }\n",
       "\n",
       "    .dataframe thead th {\n",
       "        text-align: right;\n",
       "    }\n",
       "</style>\n",
       "<table border=\"1\" class=\"dataframe\">\n",
       "  <thead>\n",
       "    <tr style=\"text-align: right;\">\n",
       "      <th></th>\n",
       "      <th>EAN</th>\n",
       "      <th>ProductID</th>\n",
       "      <th>ColorCode</th>\n",
       "      <th>ColorDescription</th>\n",
       "      <th>Size</th>\n",
       "      <th>Gender</th>\n",
       "      <th>ItemCode</th>\n",
       "      <th>ItemDescription</th>\n",
       "      <th>ProductCategory</th>\n",
       "      <th>Season</th>\n",
       "      <th>Year</th>\n",
       "      <th>SizeID</th>\n",
       "      <th>OriginalListedPrice</th>\n",
       "      <th>StandardCostOfGoods</th>\n",
       "      <th>ReceivedItems</th>\n",
       "      <th>IntroductionPeriod</th>\n",
       "      <th>Lifecycle</th>\n",
       "      <th>PriceRange</th>\n",
       "      <th>FashionContent</th>\n",
       "      <th>ItemWeight</th>\n",
       "      <th>InnovationContent</th>\n",
       "    </tr>\n",
       "  </thead>\n",
       "  <tbody>\n",
       "    <tr>\n",
       "      <th>0</th>\n",
       "      <td>2.000010e+12</td>\n",
       "      <td>9</td>\n",
       "      <td>UN</td>\n",
       "      <td>other</td>\n",
       "      <td>PZ</td>\n",
       "      <td>UN</td>\n",
       "      <td>BS</td>\n",
       "      <td>BUONO SCONTO</td>\n",
       "      <td>UN</td>\n",
       "      <td>AI</td>\n",
       "      <td>1990</td>\n",
       "      <td>1</td>\n",
       "      <td>5.0</td>\n",
       "      <td>0.01</td>\n",
       "      <td>0</td>\n",
       "      <td></td>\n",
       "      <td></td>\n",
       "      <td>0</td>\n",
       "      <td>NC</td>\n",
       "      <td>NC</td>\n",
       "      <td>NC</td>\n",
       "    </tr>\n",
       "    <tr>\n",
       "      <th>1</th>\n",
       "      <td>2.000000e+12</td>\n",
       "      <td>1</td>\n",
       "      <td>UN</td>\n",
       "      <td>other</td>\n",
       "      <td>PZ</td>\n",
       "      <td>UN</td>\n",
       "      <td>GF</td>\n",
       "      <td>GIFT CARD</td>\n",
       "      <td>UN</td>\n",
       "      <td>AI</td>\n",
       "      <td>1990</td>\n",
       "      <td>1</td>\n",
       "      <td>15.0</td>\n",
       "      <td>5.00</td>\n",
       "      <td>-7</td>\n",
       "      <td></td>\n",
       "      <td></td>\n",
       "      <td>0</td>\n",
       "      <td>NC</td>\n",
       "      <td>NC</td>\n",
       "      <td>NC</td>\n",
       "    </tr>\n",
       "    <tr>\n",
       "      <th>2</th>\n",
       "      <td>2.000000e+12</td>\n",
       "      <td>2</td>\n",
       "      <td>UN</td>\n",
       "      <td>other</td>\n",
       "      <td>PZ</td>\n",
       "      <td>UN</td>\n",
       "      <td>GF</td>\n",
       "      <td>GIFT CARD</td>\n",
       "      <td>UN</td>\n",
       "      <td>AI</td>\n",
       "      <td>1990</td>\n",
       "      <td>1</td>\n",
       "      <td>25.0</td>\n",
       "      <td>8.33</td>\n",
       "      <td>-13</td>\n",
       "      <td></td>\n",
       "      <td></td>\n",
       "      <td>0</td>\n",
       "      <td>NC</td>\n",
       "      <td>NC</td>\n",
       "      <td>NC</td>\n",
       "    </tr>\n",
       "    <tr>\n",
       "      <th>3</th>\n",
       "      <td>2.000000e+12</td>\n",
       "      <td>2</td>\n",
       "      <td>UN</td>\n",
       "      <td>other</td>\n",
       "      <td>PZ</td>\n",
       "      <td>UN</td>\n",
       "      <td>GF</td>\n",
       "      <td>GIFT CARD</td>\n",
       "      <td>UN</td>\n",
       "      <td>AI</td>\n",
       "      <td>1990</td>\n",
       "      <td>1</td>\n",
       "      <td>0.0</td>\n",
       "      <td>0.00</td>\n",
       "      <td>0</td>\n",
       "      <td></td>\n",
       "      <td></td>\n",
       "      <td>0</td>\n",
       "      <td>NC</td>\n",
       "      <td>NC</td>\n",
       "      <td>NC</td>\n",
       "    </tr>\n",
       "    <tr>\n",
       "      <th>4</th>\n",
       "      <td>2.000000e+12</td>\n",
       "      <td>3</td>\n",
       "      <td>UN</td>\n",
       "      <td>other</td>\n",
       "      <td>PZ</td>\n",
       "      <td>UN</td>\n",
       "      <td>GF</td>\n",
       "      <td>GIFT CARD</td>\n",
       "      <td>UN</td>\n",
       "      <td>AI</td>\n",
       "      <td>1990</td>\n",
       "      <td>1</td>\n",
       "      <td>50.0</td>\n",
       "      <td>16.66</td>\n",
       "      <td>-1</td>\n",
       "      <td></td>\n",
       "      <td></td>\n",
       "      <td>0</td>\n",
       "      <td>NC</td>\n",
       "      <td>NC</td>\n",
       "      <td>NC</td>\n",
       "    </tr>\n",
       "  </tbody>\n",
       "</table>\n",
       "</div>"
      ],
      "text/plain": [
       "            EAN  ProductID ColorCode ColorDescription Size Gender ItemCode  \\\n",
       "0  2.000010e+12          9        UN            other   PZ     UN       BS   \n",
       "1  2.000000e+12          1        UN            other   PZ     UN       GF   \n",
       "2  2.000000e+12          2        UN            other   PZ     UN       GF   \n",
       "3  2.000000e+12          2        UN            other   PZ     UN       GF   \n",
       "4  2.000000e+12          3        UN            other   PZ     UN       GF   \n",
       "\n",
       "  ItemDescription ProductCategory Season  Year  SizeID  OriginalListedPrice  \\\n",
       "0    BUONO SCONTO              UN     AI  1990       1                  5.0   \n",
       "1       GIFT CARD              UN     AI  1990       1                 15.0   \n",
       "2       GIFT CARD              UN     AI  1990       1                 25.0   \n",
       "3       GIFT CARD              UN     AI  1990       1                  0.0   \n",
       "4       GIFT CARD              UN     AI  1990       1                 50.0   \n",
       "\n",
       "   StandardCostOfGoods  ReceivedItems IntroductionPeriod Lifecycle PriceRange  \\\n",
       "0                 0.01              0                                       0   \n",
       "1                 5.00             -7                                       0   \n",
       "2                 8.33            -13                                       0   \n",
       "3                 0.00              0                                       0   \n",
       "4                16.66             -1                                       0   \n",
       "\n",
       "  FashionContent ItemWeight InnovationContent  \n",
       "0             NC         NC                NC  \n",
       "1             NC         NC                NC  \n",
       "2             NC         NC                NC  \n",
       "3             NC         NC                NC  \n",
       "4             NC         NC                NC  "
      ]
     },
     "execution_count": 17,
     "metadata": {},
     "output_type": "execute_result"
    }
   ],
   "source": [
    "importlib.reload(prep)\n",
    "\n",
    "prods = prep.load_products('../data/20200120_barcode.csv')\n",
    "prods.head()"
   ]
  },
  {
   "cell_type": "code",
   "execution_count": 18,
   "metadata": {},
   "outputs": [],
   "source": [
    "Dates = sales17.Date.unique()\n",
    "StoreKeys = shops.StoreKey.unique()\n",
    "EANs = prods.EAN.unique()"
   ]
  },
  {
   "cell_type": "code",
   "execution_count": 30,
   "metadata": {},
   "outputs": [],
   "source": [
    "def find_sales(date, storekey, ean, df):\n",
    "    return(len(df[(df['Date'] == date) &\n",
    "                  (df['StoreKey'] == storekey) &\n",
    "                  (df['EAN'] == ean)]))\n",
    "\n",
    "\n",
    "def random_data_sampler(num_samples,\n",
    "                        StoreKeys,\n",
    "                        dates,\n",
    "                        EANs):\n",
    "                        \n",
    "\n",
    "    Variables = [dates, StoreKeys, EANs]\n",
    "\n",
    "    Date, StoreKey, EAN =(np.random.choice(x, num_samples) for x in Variables)\n",
    "\n",
    "    df = pd.DataFrame(list(zip(Date, StoreKey, EAN)),\n",
    "                      columns=['Date', 'StoreKey', 'EAN'])\n",
    "\n",
    "#     df['sales_count'] = df.apply(lambda row: find_sales(row['Date'],\n",
    "#                                                         row['StoreKey'],\n",
    "#                                                         row['EAN'],\n",
    "#                                                         sales_db), axis=1)\n",
    "\n",
    "    return(df)"
   ]
  },
  {
   "cell_type": "code",
   "execution_count": 31,
   "metadata": {},
   "outputs": [
    {
     "name": "stdout",
     "output_type": "stream",
     "text": [
      "       Date                          StoreKey           EAN\n",
      "0  20190107  182bd6c50e82a00a939ecc7da01dc0bc  2.051820e+12\n",
      "1  20170723  645e176280b9204533d985e5aaabe6a6  2.017480e+12\n"
     ]
    }
   ],
   "source": [
    "sample = random_data_sampler(2, StoreKeys, Dates, EANs)\n",
    "print(sample)"
   ]
  },
  {
   "cell_type": "code",
   "execution_count": 32,
   "metadata": {},
   "outputs": [
    {
     "name": "stdout",
     "output_type": "stream",
     "text": [
      "0\n"
     ]
    }
   ],
   "source": [
    "print(find_sales(sample['Date'][0], sample['StoreKey'][0], sample['EAN'][0], sales17))"
   ]
  },
  {
   "cell_type": "code",
   "execution_count": null,
   "metadata": {},
   "outputs": [],
   "source": [
    "which = 'ProductID'\n",
    "len(prods)\n",
    "prods[which].value_counts().head(20)\n",
    "prods[which].unique()\n",
    "prods[(prods[which] == 67527) ]#.ColorDescription.unique()"
   ]
  },
  {
   "cell_type": "code",
   "execution_count": null,
   "metadata": {
    "scrolled": false
   },
   "outputs": [],
   "source": [
    "\n",
    "def explore(df):\n",
    "    \n",
    "    # look at values for each column\n",
    "    for col in df.columns:\n",
    "        \n",
    "        print(col)\n",
    "        uniques = df[col].unique()\n",
    "        print(len(uniques))\n",
    "        if len(uniques) > 100:\n",
    "            continue\n",
    "        counts = {u:np.sum(df.eval('{0}==\"{1}\"'.format(col, u))) for u in uniques}\n",
    "        \n",
    "        fig, ax = plt.subplots(figsize=(10,10))\n",
    "        ax.bar(x=range(len(uniques)), height=[counts[u] for u in uniques], tick_label=uniques)\n",
    "        ax.set_title(col)\n",
    "        plt.show()\n",
    "        \n",
    "\n",
    "explore(barcode)\n",
    "        \n"
   ]
  },
  {
   "cell_type": "code",
   "execution_count": null,
   "metadata": {},
   "outputs": [],
   "source": [
    "fig, ax = plt.subplots(figsize=(10,10))\n",
    "_ = ax.hist(sales17.Net_Income, bins=100)\n",
    "ax.set_yscale('log')\n",
    "plt.show()"
   ]
  },
  {
   "cell_type": "code",
   "execution_count": null,
   "metadata": {},
   "outputs": [],
   "source": [
    "sales1819 = prep.load_sales('../data/20200120_sales1819.csv', shops)\n",
    "sales1819.head()\n",
    "len(sales1819)"
   ]
  },
  {
   "cell_type": "code",
   "execution_count": null,
   "metadata": {},
   "outputs": [],
   "source": [
    "fig, ax = plt.subplots(figsize=(10,10))\n",
    "_ = ax.hist(sales1819.Net_Income, bins=100)#, range=(-1000, 1000))\n",
    "ax.set_yscale('log')\n",
    "plt.show()"
   ]
  },
  {
   "cell_type": "code",
   "execution_count": null,
   "metadata": {},
   "outputs": [],
   "source": [
    "#sales1819[abs(sales1819.Net_Income) > 100]\n",
    "sales1819[sales1819.Volume > 10]"
   ]
  },
  {
   "cell_type": "code",
   "execution_count": null,
   "metadata": {},
   "outputs": [],
   "source": [
    "len(shops)"
   ]
  },
  {
   "cell_type": "code",
   "execution_count": null,
   "metadata": {},
   "outputs": [],
   "source": [
    "sales1819.head(10)\n",
    "year = sales1819.Date"
   ]
  },
  {
   "cell_type": "code",
   "execution_count": null,
   "metadata": {},
   "outputs": [],
   "source": [
    "test = pd.to_datetime(year.astype(str))\n",
    "pd.DatetimeIndex(test).year.unique()"
   ]
  },
  {
   "cell_type": "code",
   "execution_count": null,
   "metadata": {},
   "outputs": [],
   "source": []
  },
  {
   "cell_type": "code",
   "execution_count": null,
   "metadata": {},
   "outputs": [],
   "source": [
    "minisales = sales17#.head(100000)\n",
    "idx = pd.DatetimeIndex(minisales.Date.astype(str))\n",
    "years = idx.year\n",
    "months = idx.month\n",
    "days = idx.day\n",
    "\n",
    "#minisales18 = minisales[pd.DatetimeIndex(minisales.Date.astype(str)).year == 2018]\n",
    "#years = pd.DatetimeIndex(minisales18.Date.astype(str)).year\n",
    "\n",
    "years.value_counts()"
   ]
  },
  {
   "cell_type": "code",
   "execution_count": null,
   "metadata": {
    "scrolled": false
   },
   "outputs": [],
   "source": [
    "#months[years==2016].value_counts()\n",
    "#months[years==2017].value_counts()\n",
    "#months[years==2018].value_counts()\n",
    "#months[years==2019].value_counts()\n",
    "\n",
    "vcounts = months[years==2016].value_counts()\n",
    "vcounts\n",
    "\n",
    "sales = [vcounts.loc[m] if m in vcounts else 0 for m in xs]\n",
    "sales\n",
    "\n",
    "fig, ax = plt.subplots()\n",
    "xs = range(1, 13)\n",
    "for y in [2016, 2017, 2018, 2019]:\n",
    "    vcounts = months[years==y].value_counts()\n",
    "    ax.plot(xs, [vcounts.loc[m] if m in vcounts else 0 for m in xs]/np.sum(vcounts), label='{} ({})'.format(y, np.sum(vcounts)))\n",
    "ax.legend()\n",
    "ax.set_xlabel('month of the year')\n",
    "ax.set_ylabel('fraction of yearly sales')\n",
    "ax.set_title('sales17 data')\n",
    "plt.show()\n",
    "\n"
   ]
  },
  {
   "cell_type": "code",
   "execution_count": null,
   "metadata": {},
   "outputs": [],
   "source": [
    "minisales.head()\n",
    "minisales.dtypes\n",
    "minisales.memory_usage() / 10**9\n",
    "np.sum(minisales.memory_usage() / 10**9)"
   ]
  },
  {
   "cell_type": "code",
   "execution_count": null,
   "metadata": {
    "scrolled": false
   },
   "outputs": [],
   "source": [
    "import networkx as nx\n"
   ]
  },
  {
   "cell_type": "code",
   "execution_count": null,
   "metadata": {},
   "outputs": [],
   "source": [
    "G=nx.Graph()\n",
    "G.add_node('w2')\n",
    "G.add_node('w')\n",
    "G.add_edge(1,2)\n",
    "G.add_edge(1,2)\n",
    "G.nodes()\n",
    "G.edges()\n",
    "G[1][2]['weight'] = 1\n",
    "G[1][2]\n"
   ]
  },
  {
   "cell_type": "code",
   "execution_count": null,
   "metadata": {},
   "outputs": [],
   "source": [
    "prods = prep.load_products('../data/20200120_barcode.csv')\n",
    "prods.head()"
   ]
  },
  {
   "cell_type": "code",
   "execution_count": null,
   "metadata": {},
   "outputs": [],
   "source": [
    "prods.Size.value_counts().head(50)"
   ]
  },
  {
   "cell_type": "code",
   "execution_count": null,
   "metadata": {
    "scrolled": false
   },
   "outputs": [],
   "source": [
    "S = nx.Graph()\n",
    "\n",
    "# add nodes\n",
    "for size in prods.Size.unique():\n",
    "    S.add_node(size)\n",
    "S.nodes()\n",
    "\n",
    "# add edges\n",
    "t0 = time.time()\n",
    "for i, pid in enumerate(prods.ProductID.unique()):\n",
    "    pid_sizes = prods[prods.ProductID == pid]['Size'].unique()\n",
    "    if len(pid_sizes) <= 1:\n",
    "        continue\n",
    "    \n",
    "    for s1, s2 in itertools.combinations(pid_sizes,2):\n",
    "        # skip PZ\n",
    "        if 'PZ' in [s1, s2]:\n",
    "            continue\n",
    "        \n",
    "        # add a new edge\n",
    "        if (s1, s2) not in S.edges():\n",
    "            S.add_edge(s1, s2, weight=1)\n",
    "        else:\n",
    "            S[s1][s2]['weight'] += 1\n",
    "    \n",
    "    if i>10000:\n",
    "        break\n",
    "        \n",
    "print((time.time()-t0)/60, 'minutes')\n",
    "\n",
    "# edges = [e for e in sizes.edges()]\n",
    "# edges[:5]\n",
    "# widths = [sizes[s1][s2]['weight'] for s1, s2 in edges]\n",
    "# widths[:5]\n",
    "\n",
    "# fgi, ax = plt.subplots(figsize=(10,10))\n",
    "# nx.draw_networkx_edges(sizes,\n",
    "#                        pos=nx.spring_layout(sizes),\n",
    "#                        width=np.array(widths)/50,\n",
    "#                        ax=ax)\n",
    "# lim = 0.2\n",
    "# ax.set_xlim(-lim,lim)\n",
    "# ax.set_ylim(-lim,lim)\n",
    "\n",
    "# for c in nx.connected_components(sizes):\n",
    "#     #print(c)\n",
    "#     #subgraph = sizes.subgraph(c)\n",
    "#     #widths = [sizes[s1][s2]['weight'] for s1, s2 in subgraph.edges()]\n",
    "#     #fig, ax = plt.subplots(figsize=(5, 5))\n",
    "#     nx.draw(sizes, with_labels=True)\n",
    "#     #lim = 0.2\n",
    "#     #ax.set_xlim(-lim,lim)\n",
    "#     #ax.set_ylim(-lim,lim)\n",
    "#     break"
   ]
  },
  {
   "cell_type": "code",
   "execution_count": null,
   "metadata": {
    "scrolled": true
   },
   "outputs": [],
   "source": [
    "help(nx.draw_networkx_edges)"
   ]
  },
  {
   "cell_type": "code",
   "execution_count": null,
   "metadata": {
    "scrolled": true
   },
   "outputs": [],
   "source": [
    "\n",
    "for i, sg in enumerate(nx.connected_components(S)):\n",
    "    subgraph = S.subgraph(sg)\n",
    "    fig, ax = plt.subplots(figsize=(50,50))\n",
    "    pos = nx.spring_layout(subgraph)\n",
    "    edgelist = subgraph.edges()\n",
    "    #print(edgelist)\n",
    "    widths = np.array([subgraph[n1][n2]['weight'] for n1, n2 in edgelist])\n",
    "    nx.draw(subgraph, with_labels=True, pos=pos)\n",
    "    nx.draw_networkx_edges(subgraph, pos=pos, width=widths/100)\n",
    "    plt.savefig('network_{}.pdf'.format(i))\n",
    "    \n",
    "# for edge in S.edges:\n",
    "#     print(edge)\n",
    "#     n1 = edge[0]\n",
    "#     n2 = edge[1]\n",
    "#     print(S[n1][n2]['weight'])"
   ]
  },
  {
   "cell_type": "code",
   "execution_count": null,
   "metadata": {},
   "outputs": [],
   "source": [
    "prods.Gender.unique()\n",
    "prods[(prods.Gender == 'UO') | (prods.Gender == 'DO')].Size.unique()\n",
    "prods[(prods.Gender == 'BA') | (prods.Gender == 'BO')].Size.unique()"
   ]
  },
  {
   "cell_type": "code",
   "execution_count": null,
   "metadata": {},
   "outputs": [],
   "source": [
    "G = nx.Graph()\n",
    "for city in ['Oxford', 'London', 'Cambridge']:\n",
    "    G.add_node(city)\n",
    "\n",
    "G.add_edge('Oxford', 'London')\n",
    "G.add_edge('Oxford', 'Cambridge')\n",
    "print(G.nodes)\n",
    "\n",
    "fig, ax = plt.subplots(figsize=(10,10))\n",
    "nx.draw(G, with_labels=True)\n",
    "# lim = 0.2\n",
    "# ax.set_xlim(-lim,lim)\n",
    "# ax.set_ylim(-lim,lim)"
   ]
  },
  {
   "cell_type": "code",
   "execution_count": null,
   "metadata": {
    "scrolled": false
   },
   "outputs": [],
   "source": [
    "help(nx.draw_networkx)"
   ]
  },
  {
   "cell_type": "code",
   "execution_count": null,
   "metadata": {
    "scrolled": false
   },
   "outputs": [],
   "source": [
    "\n",
    "# loop over all the genders\n",
    "for gender in prods.Gender.unique():\n",
    "    \n",
    "    # check if there is a reasonable number of items\n",
    "    if type(gender) != str or prods.Gender.value_counts()[gender] < 100:\n",
    "        continue\n",
    "        \n",
    "    print(gender)\n",
    "    \n",
    "    # create a subprods\n",
    "    these_prods = prods[prods.Gender == gender]\n",
    "    \n",
    "    # create a graph with all the sizes\n",
    "    G = nx.Graph()\n",
    "    for size in these_prods.Size.unique():\n",
    "        S.add_node(size)\n",
    "    S.nodes()\n",
    "    \n",
    "    # add the edges\n",
    "    for i, pid in enumerate(these_prods.ProductID.unique()):\n",
    "        pid_sizes = these_prods[these_prods.ProductID == pid]['Size'].unique()\n",
    "        if len(pid_sizes) <= 1:\n",
    "            continue\n",
    "    \n",
    "        for s1, s2 in itertools.combinations(pid_sizes,2):\n",
    "            # skip PZ\n",
    "            if 'PZ' in [s1, s2]:\n",
    "                continue\n",
    "\n",
    "            # add a new edge\n",
    "            if (s1, s2) not in S.edges():\n",
    "                S.add_edge(s1, s2, weight=1)\n",
    "            else:\n",
    "                S[s1][s2]['weight'] += 1\n",
    "\n",
    "        if i>1000:\n",
    "            break\n",
    "    \n",
    "    S.edges()\n",
    "    for i, sg in enumerate(nx.connected_components(S)):\n",
    "        \n",
    "        if len(sg) <= 1:\n",
    "            continue\n",
    "        \n",
    "        # prepare\n",
    "        fig, ax = plt.subplots(figsize=(10,10))\n",
    "        subgraph = S.subgraph(sg)\n",
    "        pos = nx.spring_layout(subgraph)\n",
    "        edgelist = subgraph.edges()\n",
    "        widths = np.array([subgraph[n1][n2]['weight'] for n1, n2 in edgelist])\n",
    "        \n",
    "        nx.draw(subgraph, with_labels=True, pos=pos)\n",
    "        print(widths)\n",
    "        print(np.log(widths))\n",
    "        nx.draw_networkx_edges(subgraph, pos=pos, width=np.log(widths))\n",
    "        ax.set_title('Gender = {}'.format(gender), size=50)\n",
    "        plt.savefig('network_{}_{}.pdf'.format(gender, i))\n",
    "    \n",
    "    \n",
    "prods.Gender.value_counts()"
   ]
  },
  {
   "cell_type": "code",
   "execution_count": null,
   "metadata": {},
   "outputs": [],
   "source": [
    "type(np.nan)"
   ]
  },
  {
   "cell_type": "code",
   "execution_count": null,
   "metadata": {},
   "outputs": [],
   "source": []
  }
 ],
 "metadata": {
  "kernelspec": {
   "display_name": "Python 3",
   "language": "python",
   "name": "python3"
  },
  "language_info": {
   "codemirror_mode": {
    "name": "ipython",
    "version": 3
   },
   "file_extension": ".py",
   "mimetype": "text/x-python",
   "name": "python",
   "nbconvert_exporter": "python",
   "pygments_lexer": "ipython3",
   "version": "3.7.6"
  }
 },
 "nbformat": 4,
 "nbformat_minor": 4
}
