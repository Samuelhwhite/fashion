{
 "cells": [
  {
   "cell_type": "code",
   "execution_count": null,
   "metadata": {},
   "outputs": [],
   "source": [
    "import numpy as np\n",
    "import pandas as pd\n",
    "import time\n",
    "import matplotlib.pyplot as plt\n",
    "import itertools\n",
    "import sys\n",
    "sys.path.insert(0, '..')\n",
    "import fashion.preprocessing as prep\n",
    "# display all columns\n",
    "pd.set_option('display.max_columns', None)\n",
    "\n",
    "# show all results of the notebook not just the last one\n",
    "from IPython.core.interactiveshell import InteractiveShell\n",
    "InteractiveShell.ast_node_interactivity = \"all\""
   ]
  },
  {
   "cell_type": "code",
   "execution_count": null,
   "metadata": {},
   "outputs": [],
   "source": [
    "shops = prep.load_shops('../data/20200120_filiali.csv')\n",
    "shops.head()"
   ]
  },
  {
   "cell_type": "code",
   "execution_count": null,
   "metadata": {},
   "outputs": [],
   "source": [
    "import importlib\n",
    "importlib.reload(prep)\n",
    "\n",
    "sales17 = prep.load_sales('../data/20200120_sales17.csv', shops)\n",
    "sales17.head()\n",
    "len(sales17)"
   ]
  },
  {
   "cell_type": "code",
   "execution_count": null,
   "metadata": {},
   "outputs": [],
   "source": [
    "sales17.dtypes"
   ]
  },
  {
   "cell_type": "code",
   "execution_count": null,
   "metadata": {},
   "outputs": [],
   "source": [
    "importlib.reload(prep)\n",
    "\n",
    "prods = prep.load_products('../data/20200120_barcode.csv')\n",
    "prods.head()"
   ]
  },
  {
   "cell_type": "code",
   "execution_count": null,
   "metadata": {},
   "outputs": [],
   "source": [
    "which = 'ProductID'\n",
    "len(prods)\n",
    "prods[which].value_counts().head(20)\n",
    "prods[which].unique()\n",
    "prods[(prods[which] == 67527) ]#.ColorDescription.unique()"
   ]
  },
  {
   "cell_type": "code",
   "execution_count": null,
   "metadata": {
    "scrolled": false
   },
   "outputs": [],
   "source": [
    "\n",
    "def explore(df):\n",
    "    \n",
    "    # look at values for each column\n",
    "    for col in df.columns:\n",
    "        \n",
    "        print(col)\n",
    "        uniques = df[col].unique()\n",
    "        print(len(uniques))\n",
    "        if len(uniques) > 100:\n",
    "            continue\n",
    "        counts = {u:np.sum(df.eval('{0}==\"{1}\"'.format(col, u))) for u in uniques}\n",
    "        \n",
    "        fig, ax = plt.subplots(figsize=(10,10))\n",
    "        ax.bar(x=range(len(uniques)), height=[counts[u] for u in uniques], tick_label=uniques)\n",
    "        ax.set_title(col)\n",
    "        plt.show()\n",
    "        \n",
    "\n",
    "explore(barcode)\n",
    "        \n"
   ]
  },
  {
   "cell_type": "code",
   "execution_count": null,
   "metadata": {},
   "outputs": [],
   "source": [
    "fig, ax = plt.subplots(figsize=(10,10))\n",
    "_ = ax.hist(sales17.Net_Income, bins=100)\n",
    "ax.set_yscale('log')\n",
    "plt.show()"
   ]
  },
  {
   "cell_type": "code",
   "execution_count": null,
   "metadata": {},
   "outputs": [],
   "source": [
    "sales1819 = prep.load_sales('../data/20200120_sales1819.csv', shops)\n",
    "sales1819.head()\n",
    "len(sales1819)"
   ]
  },
  {
   "cell_type": "code",
   "execution_count": null,
   "metadata": {},
   "outputs": [],
   "source": [
    "fig, ax = plt.subplots(figsize=(10,10))\n",
    "_ = ax.hist(sales1819.Net_Income, bins=100)#, range=(-1000, 1000))\n",
    "ax.set_yscale('log')\n",
    "plt.show()"
   ]
  },
  {
   "cell_type": "code",
   "execution_count": null,
   "metadata": {},
   "outputs": [],
   "source": [
    "#sales1819[abs(sales1819.Net_Income) > 100]\n",
    "sales1819[sales1819.Volume > 10]"
   ]
  },
  {
   "cell_type": "code",
   "execution_count": null,
   "metadata": {},
   "outputs": [],
   "source": [
    "len(shops)"
   ]
  },
  {
   "cell_type": "code",
   "execution_count": null,
   "metadata": {},
   "outputs": [],
   "source": [
    "sales1819.head(10)\n",
    "year = sales1819.Date"
   ]
  },
  {
   "cell_type": "code",
   "execution_count": null,
   "metadata": {},
   "outputs": [],
   "source": [
    "test = pd.to_datetime(year.astype(str))\n",
    "pd.DatetimeIndex(test).year.unique()"
   ]
  },
  {
   "cell_type": "code",
   "execution_count": null,
   "metadata": {},
   "outputs": [],
   "source": []
  },
  {
   "cell_type": "code",
   "execution_count": null,
   "metadata": {},
   "outputs": [],
   "source": [
    "minisales = sales17#.head(100000)\n",
    "idx = pd.DatetimeIndex(minisales.Date.astype(str))\n",
    "years = idx.year\n",
    "months = idx.month\n",
    "days = idx.day\n",
    "\n",
    "#minisales18 = minisales[pd.DatetimeIndex(minisales.Date.astype(str)).year == 2018]\n",
    "#years = pd.DatetimeIndex(minisales18.Date.astype(str)).year\n",
    "\n",
    "years.value_counts()"
   ]
  },
  {
   "cell_type": "code",
   "execution_count": null,
   "metadata": {
    "scrolled": false
   },
   "outputs": [],
   "source": [
    "#months[years==2016].value_counts()\n",
    "#months[years==2017].value_counts()\n",
    "#months[years==2018].value_counts()\n",
    "#months[years==2019].value_counts()\n",
    "\n",
    "vcounts = months[years==2016].value_counts()\n",
    "vcounts\n",
    "\n",
    "sales = [vcounts.loc[m] if m in vcounts else 0 for m in xs]\n",
    "sales\n",
    "\n",
    "fig, ax = plt.subplots()\n",
    "xs = range(1, 13)\n",
    "for y in [2016, 2017, 2018, 2019]:\n",
    "    vcounts = months[years==y].value_counts()\n",
    "    ax.plot(xs, [vcounts.loc[m] if m in vcounts else 0 for m in xs]/np.sum(vcounts), label='{} ({})'.format(y, np.sum(vcounts)))\n",
    "ax.legend()\n",
    "ax.set_xlabel('month of the year')\n",
    "ax.set_ylabel('fraction of yearly sales')\n",
    "ax.set_title('sales17 data')\n",
    "plt.show()\n",
    "\n"
   ]
  },
  {
   "cell_type": "code",
   "execution_count": null,
   "metadata": {},
   "outputs": [],
   "source": [
    "minisales.head()\n",
    "minisales.dtypes\n",
    "minisales.memory_usage() / 10**9\n",
    "np.sum(minisales.memory_usage() / 10**9)"
   ]
  },
  {
   "cell_type": "code",
   "execution_count": null,
   "metadata": {
    "scrolled": false
   },
   "outputs": [],
   "source": [
    "import networkx as nx\n"
   ]
  },
  {
   "cell_type": "code",
   "execution_count": null,
   "metadata": {},
   "outputs": [],
   "source": [
    "G=nx.Graph()\n",
    "G.add_node('w2')\n",
    "G.add_node('w')\n",
    "G.add_edge(1,2)\n",
    "G.add_edge(1,2)\n",
    "G.nodes()\n",
    "G.edges()\n",
    "G[1][2]['weight'] = 1\n",
    "G[1][2]\n"
   ]
  },
  {
   "cell_type": "code",
   "execution_count": null,
   "metadata": {},
   "outputs": [],
   "source": [
    "prods = prep.load_products('../data/20200120_barcode.csv')\n",
    "prods.head()"
   ]
  },
  {
   "cell_type": "code",
   "execution_count": null,
   "metadata": {},
   "outputs": [],
   "source": [
    "prods.Size.value_counts().head(50)"
   ]
  },
  {
   "cell_type": "code",
   "execution_count": null,
   "metadata": {
    "scrolled": false
   },
   "outputs": [],
   "source": [
    "S = nx.Graph()\n",
    "\n",
    "# add nodes\n",
    "for size in prods.Size.unique():\n",
    "    S.add_node(size)\n",
    "S.nodes()\n",
    "\n",
    "# add edges\n",
    "t0 = time.time()\n",
    "for i, pid in enumerate(prods.ProductID.unique()):\n",
    "    pid_sizes = prods[prods.ProductID == pid]['Size'].unique()\n",
    "    if len(pid_sizes) <= 1:\n",
    "        continue\n",
    "    \n",
    "    for s1, s2 in itertools.combinations(pid_sizes,2):\n",
    "        # skip PZ\n",
    "        if 'PZ' in [s1, s2]:\n",
    "            continue\n",
    "        \n",
    "        # add a new edge\n",
    "        if (s1, s2) not in S.edges():\n",
    "            S.add_edge(s1, s2, weight=1)\n",
    "        else:\n",
    "            S[s1][s2]['weight'] += 1\n",
    "    \n",
    "    if i>10000:\n",
    "        break\n",
    "        \n",
    "print((time.time()-t0)/60, 'minutes')\n",
    "\n",
    "# edges = [e for e in sizes.edges()]\n",
    "# edges[:5]\n",
    "# widths = [sizes[s1][s2]['weight'] for s1, s2 in edges]\n",
    "# widths[:5]\n",
    "\n",
    "# fgi, ax = plt.subplots(figsize=(10,10))\n",
    "# nx.draw_networkx_edges(sizes,\n",
    "#                        pos=nx.spring_layout(sizes),\n",
    "#                        width=np.array(widths)/50,\n",
    "#                        ax=ax)\n",
    "# lim = 0.2\n",
    "# ax.set_xlim(-lim,lim)\n",
    "# ax.set_ylim(-lim,lim)\n",
    "\n",
    "# for c in nx.connected_components(sizes):\n",
    "#     #print(c)\n",
    "#     #subgraph = sizes.subgraph(c)\n",
    "#     #widths = [sizes[s1][s2]['weight'] for s1, s2 in subgraph.edges()]\n",
    "#     #fig, ax = plt.subplots(figsize=(5, 5))\n",
    "#     nx.draw(sizes, with_labels=True)\n",
    "#     #lim = 0.2\n",
    "#     #ax.set_xlim(-lim,lim)\n",
    "#     #ax.set_ylim(-lim,lim)\n",
    "#     break"
   ]
  },
  {
   "cell_type": "code",
   "execution_count": null,
   "metadata": {
    "scrolled": true
   },
   "outputs": [],
   "source": [
    "help(nx.draw_networkx_edges)"
   ]
  },
  {
   "cell_type": "code",
   "execution_count": null,
   "metadata": {
    "scrolled": true
   },
   "outputs": [],
   "source": [
    "\n",
    "for i, sg in enumerate(nx.connected_components(S)):\n",
    "    subgraph = S.subgraph(sg)\n",
    "    fig, ax = plt.subplots(figsize=(50,50))\n",
    "    pos = nx.spring_layout(subgraph)\n",
    "    edgelist = subgraph.edges()\n",
    "    #print(edgelist)\n",
    "    widths = np.array([subgraph[n1][n2]['weight'] for n1, n2 in edgelist])\n",
    "    nx.draw(subgraph, with_labels=True, pos=pos)\n",
    "    nx.draw_networkx_edges(subgraph, pos=pos, width=widths/100)\n",
    "    plt.savefig('network_{}.pdf'.format(i))\n",
    "    \n",
    "# for edge in S.edges:\n",
    "#     print(edge)\n",
    "#     n1 = edge[0]\n",
    "#     n2 = edge[1]\n",
    "#     print(S[n1][n2]['weight'])"
   ]
  },
  {
   "cell_type": "code",
   "execution_count": null,
   "metadata": {},
   "outputs": [],
   "source": [
    "prods.Gender.unique()\n",
    "prods[(prods.Gender == 'UO') | (prods.Gender == 'DO')].Size.unique()\n",
    "prods[(prods.Gender == 'BA') | (prods.Gender == 'BO')].Size.unique()"
   ]
  },
  {
   "cell_type": "code",
   "execution_count": null,
   "metadata": {},
   "outputs": [],
   "source": [
    "G = nx.Graph()\n",
    "for city in ['Oxford', 'London', 'Cambridge']:\n",
    "    G.add_node(city)\n",
    "\n",
    "G.add_edge('Oxford', 'London')\n",
    "G.add_edge('Oxford', 'Cambridge')\n",
    "print(G.nodes)\n",
    "\n",
    "fig, ax = plt.subplots(figsize=(10,10))\n",
    "nx.draw(G, with_labels=True)\n",
    "# lim = 0.2\n",
    "# ax.set_xlim(-lim,lim)\n",
    "# ax.set_ylim(-lim,lim)"
   ]
  },
  {
   "cell_type": "code",
   "execution_count": null,
   "metadata": {
    "scrolled": false
   },
   "outputs": [],
   "source": [
    "help(nx.draw_networkx)"
   ]
  },
  {
   "cell_type": "code",
   "execution_count": null,
   "metadata": {
    "scrolled": false
   },
   "outputs": [],
   "source": [
    "\n",
    "# loop over all the genders\n",
    "for gender in prods.Gender.unique():\n",
    "    \n",
    "    # check if there is a reasonable number of items\n",
    "    if type(gender) != str or prods.Gender.value_counts()[gender] < 100:\n",
    "        continue\n",
    "        \n",
    "    print(gender)\n",
    "    \n",
    "    # create a subprods\n",
    "    these_prods = prods[prods.Gender == gender]\n",
    "    \n",
    "    # create a graph with all the sizes\n",
    "    G = nx.Graph()\n",
    "    for size in these_prods.Size.unique():\n",
    "        S.add_node(size)\n",
    "    S.nodes()\n",
    "    \n",
    "    # add the edges\n",
    "    for i, pid in enumerate(these_prods.ProductID.unique()):\n",
    "        pid_sizes = these_prods[these_prods.ProductID == pid]['Size'].unique()\n",
    "        if len(pid_sizes) <= 1:\n",
    "            continue\n",
    "    \n",
    "        for s1, s2 in itertools.combinations(pid_sizes,2):\n",
    "            # skip PZ\n",
    "            if 'PZ' in [s1, s2]:\n",
    "                continue\n",
    "\n",
    "            # add a new edge\n",
    "            if (s1, s2) not in S.edges():\n",
    "                S.add_edge(s1, s2, weight=1)\n",
    "            else:\n",
    "                S[s1][s2]['weight'] += 1\n",
    "\n",
    "        if i>1000:\n",
    "            break\n",
    "    \n",
    "    S.edges()\n",
    "    for i, sg in enumerate(nx.connected_components(S)):\n",
    "        \n",
    "        if len(sg) <= 1:\n",
    "            continue\n",
    "        \n",
    "        # prepare\n",
    "        fig, ax = plt.subplots(figsize=(10,10))\n",
    "        subgraph = S.subgraph(sg)\n",
    "        pos = nx.spring_layout(subgraph)\n",
    "        edgelist = subgraph.edges()\n",
    "        widths = np.array([subgraph[n1][n2]['weight'] for n1, n2 in edgelist])\n",
    "        \n",
    "        nx.draw(subgraph, with_labels=True, pos=pos)\n",
    "        print(widths)\n",
    "        print(np.log(widths))\n",
    "        nx.draw_networkx_edges(subgraph, pos=pos, width=np.log(widths))\n",
    "        ax.set_title('Gender = {}'.format(gender), size=50)\n",
    "        plt.savefig('network_{}_{}.pdf'.format(gender, i))\n",
    "    \n",
    "    \n",
    "prods.Gender.value_counts()"
   ]
  },
  {
   "cell_type": "code",
   "execution_count": null,
   "metadata": {},
   "outputs": [],
   "source": [
    "type(np.nan)"
   ]
  },
  {
   "cell_type": "code",
   "execution_count": null,
   "metadata": {},
   "outputs": [],
   "source": []
  }
 ],
 "metadata": {
  "kernelspec": {
   "display_name": "Python (fashion)",
   "language": "python",
   "name": "fashion"
  },
  "language_info": {
   "codemirror_mode": {
    "name": "ipython",
    "version": 3
   },
   "file_extension": ".py",
   "mimetype": "text/x-python",
   "name": "python",
   "nbconvert_exporter": "python",
   "pygments_lexer": "ipython3",
   "version": "3.7.4"
  }
 },
 "nbformat": 4,
 "nbformat_minor": 4
}
