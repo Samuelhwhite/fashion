{
 "cells": [
  {
   "cell_type": "code",
   "execution_count": null,
   "metadata": {},
   "outputs": [],
   "source": [
    "import numpy as np\n",
    "import pandas as pd\n",
    "import matplotlib.pyplot as plt\n",
    "import sys\n",
    "sys.path.insert(0, '..')\n",
    "import fashion.preprocessing as prep\n",
    "# display all columns\n",
    "pd.set_option('display.max_columns', None)\n",
    "\n",
    "# show all results of the notebook not just the last one\n",
    "from IPython.core.interactiveshell import InteractiveShell\n",
    "InteractiveShell.ast_node_interactivity = \"all\""
   ]
  },
  {
   "cell_type": "code",
   "execution_count": null,
   "metadata": {},
   "outputs": [],
   "source": [
    "shops = prep.load_shops('../data/20200120_filiali.csv')\n",
    "shops.head()"
   ]
  },
  {
   "cell_type": "code",
   "execution_count": null,
   "metadata": {},
   "outputs": [],
   "source": [
    "import importlib\n",
    "importlib.reload(prep)\n",
    "\n",
    "sales17 = prep.load_sales('../data/20200120_sales17.csv', shops)\n",
    "sales17.head()\n",
    "len(sales17)"
   ]
  },
  {
   "cell_type": "code",
   "execution_count": null,
   "metadata": {},
   "outputs": [],
   "source": [
    "sales17.dtypes"
   ]
  },
  {
   "cell_type": "code",
   "execution_count": null,
   "metadata": {},
   "outputs": [],
   "source": [
    "importlib.reload(prep)\n",
    "\n",
    "prods = prep.load_products('../data/20200120_barcode.csv')\n",
    "prods.head()"
   ]
  },
  {
   "cell_type": "code",
   "execution_count": null,
   "metadata": {},
   "outputs": [],
   "source": [
    "which = 'ProductID'\n",
    "len(prods)\n",
    "prods[which].value_counts().head(20)\n",
    "prods[which].unique()\n",
    "prods[(prods[which] == 67527) ]#.ColorDescription.unique()"
   ]
  },
  {
   "cell_type": "code",
   "execution_count": null,
   "metadata": {
    "scrolled": false
   },
   "outputs": [],
   "source": [
    "\n",
    "def explore(df):\n",
    "    \n",
    "    # look at values for each column\n",
    "    for col in df.columns:\n",
    "        \n",
    "        print(col)\n",
    "        uniques = df[col].unique()\n",
    "        print(len(uniques))\n",
    "        if len(uniques) > 100:\n",
    "            continue\n",
    "        counts = {u:np.sum(df.eval('{0}==\"{1}\"'.format(col, u))) for u in uniques}\n",
    "        \n",
    "        fig, ax = plt.subplots(figsize=(10,10))\n",
    "        ax.bar(x=range(len(uniques)), height=[counts[u] for u in uniques], tick_label=uniques)\n",
    "        ax.set_title(col)\n",
    "        plt.show()\n",
    "        \n",
    "\n",
    "explore(barcode)\n",
    "        \n"
   ]
  },
  {
   "cell_type": "code",
   "execution_count": null,
   "metadata": {},
   "outputs": [],
   "source": [
    "fig, ax = plt.subplots(figsize=(10,10))\n",
    "_ = ax.hist(sales17.Net_Income, bins=100)\n",
    "ax.set_yscale('log')\n",
    "plt.show()"
   ]
  },
  {
   "cell_type": "code",
   "execution_count": null,
   "metadata": {},
   "outputs": [],
   "source": [
    "sales1819 = prep.load_sales('../data/20200120_sales1819.csv', shops)\n",
    "sales1819.head()\n",
    "len(sales1819)"
   ]
  },
  {
   "cell_type": "code",
   "execution_count": null,
   "metadata": {},
   "outputs": [],
   "source": [
    "fig, ax = plt.subplots(figsize=(10,10))\n",
    "_ = ax.hist(sales1819.Net_Income, bins=100)#, range=(-1000, 1000))\n",
    "ax.set_yscale('log')\n",
    "plt.show()"
   ]
  },
  {
   "cell_type": "code",
   "execution_count": null,
   "metadata": {},
   "outputs": [],
   "source": [
    "#sales1819[abs(sales1819.Net_Income) > 100]\n",
    "sales1819[sales1819.Volume > 10]"
   ]
  },
  {
   "cell_type": "code",
   "execution_count": null,
   "metadata": {},
   "outputs": [],
   "source": [
    "len(shops)"
   ]
  },
  {
   "cell_type": "code",
   "execution_count": null,
   "metadata": {},
   "outputs": [],
   "source": [
    "sales1819.head(10)\n",
    "year = sales1819.Date"
   ]
  },
  {
   "cell_type": "code",
   "execution_count": null,
   "metadata": {},
   "outputs": [],
   "source": [
    "test = pd.to_datetime(year.astype(str))\n",
    "pd.DatetimeIndex(test).year.unique()"
   ]
  },
  {
   "cell_type": "code",
   "execution_count": null,
   "metadata": {},
   "outputs": [],
   "source": []
  },
  {
   "cell_type": "code",
   "execution_count": null,
   "metadata": {},
   "outputs": [],
   "source": [
    "minisales = sales17#.head(100000)\n",
    "idx = pd.DatetimeIndex(minisales.Date.astype(str))\n",
    "years = idx.year\n",
    "months = idx.month\n",
    "days = idx.day\n",
    "\n",
    "#minisales18 = minisales[pd.DatetimeIndex(minisales.Date.astype(str)).year == 2018]\n",
    "#years = pd.DatetimeIndex(minisales18.Date.astype(str)).year\n",
    "\n",
    "years.value_counts()"
   ]
  },
  {
   "cell_type": "code",
   "execution_count": null,
   "metadata": {
    "scrolled": false
   },
   "outputs": [],
   "source": [
    "#months[years==2016].value_counts()\n",
    "#months[years==2017].value_counts()\n",
    "#months[years==2018].value_counts()\n",
    "#months[years==2019].value_counts()\n",
    "\n",
    "vcounts = months[years==2016].value_counts()\n",
    "vcounts\n",
    "\n",
    "sales = [vcounts.loc[m] if m in vcounts else 0 for m in xs]\n",
    "sales\n",
    "\n",
    "fig, ax = plt.subplots()\n",
    "xs = range(1, 13)\n",
    "for y in [2016, 2017, 2018, 2019]:\n",
    "    vcounts = months[years==y].value_counts()\n",
    "    ax.plot(xs, [vcounts.loc[m] if m in vcounts else 0 for m in xs]/np.sum(vcounts), label='{} ({})'.format(y, np.sum(vcounts)))\n",
    "ax.legend()\n",
    "ax.set_xlabel('month of the year')\n",
    "ax.set_ylabel('fraction of yearly sales')\n",
    "ax.set_title('sales17 data')\n",
    "plt.show()\n",
    "\n"
   ]
  },
  {
   "cell_type": "code",
   "execution_count": null,
   "metadata": {},
   "outputs": [],
   "source": [
    "minisales.head()\n",
    "minisales.dtypes\n",
    "minisales.memory_usage() / 10**9\n",
    "np.sum(minisales.memory_usage() / 10**9)"
   ]
  },
  {
   "cell_type": "code",
   "execution_count": null,
   "metadata": {
    "scrolled": false
   },
   "outputs": [],
   "source": []
  },
  {
   "cell_type": "code",
   "execution_count": null,
   "metadata": {},
   "outputs": [],
   "source": []
  }
 ],
 "metadata": {
  "kernelspec": {
   "display_name": "Python (fashion)",
   "language": "python",
   "name": "fashion"
  },
  "language_info": {
   "codemirror_mode": {
    "name": "ipython",
    "version": 3
   },
   "file_extension": ".py",
   "mimetype": "text/x-python",
   "name": "python",
   "nbconvert_exporter": "python",
   "pygments_lexer": "ipython3",
   "version": "3.7.4"
  }
 },
 "nbformat": 4,
 "nbformat_minor": 4
}
