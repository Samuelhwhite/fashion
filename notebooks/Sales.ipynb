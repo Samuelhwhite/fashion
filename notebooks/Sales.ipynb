{
 "cells": [
  {
   "cell_type": "code",
   "execution_count": null,
   "metadata": {},
   "outputs": [],
   "source": [
    "import pandas as pd\n",
    "import numpy as np\n",
    "import matplotlib.pyplot as plt\n",
    "import matplotlib\n",
    "import sys\n",
    "sys.path.insert(0, '..')\n",
    "from fashion import utils\n",
    "\n",
    "font = {'size': 15}\n",
    "matplotlib.rc('font', **font)"
   ]
  },
  {
   "cell_type": "markdown",
   "metadata": {},
   "source": [
    "# load the data"
   ]
  },
  {
   "cell_type": "code",
   "execution_count": null,
   "metadata": {},
   "outputs": [],
   "source": [
    "def load_sales(path):\n",
    "\n",
    "    # load\n",
    "    df = pd.read_csv(path)\n",
    "\n",
    "    # translate the columns\n",
    "    new_columns = ['Store_Key', 'Receipt_Key', 'Date', 'Hour', 'EAN', 'Volume', 'Net_Income']\n",
    "    df.rename(inplace=True, columns=dict(zip(df.columns, new_columns)))\n",
    "\n",
    "    return df\n",
    "\n",
    "sales = load_sales(utils.loc / 'data' / '20200120_sales17.csv')"
   ]
  },
  {
   "cell_type": "markdown",
   "metadata": {},
   "source": [
    "# initial sales analysis"
   ]
  },
  {
   "cell_type": "code",
   "execution_count": null,
   "metadata": {},
   "outputs": [],
   "source": [
    "# analyse the net income per sale in complete and restricted range\n",
    "bins=100\n",
    "for sale_min, sale_max in [(np.min(sales.Net_Income), np.max(sales.Net_Income)),\n",
    "                          (0, 1000)]:\n",
    "    hist, edges = np.histogram(sales.Net_Income, bins=bins, range=(sale_min, sale_max))\n",
    "    centres = 0.5*(edges[:-1] + edges[1:])\n",
    "\n",
    "    fig, ax = plt.subplots(1, 2, figsize=(12,6))\n",
    "    ax[0].hist(centres, bins=bins, range=(sale_min,sale_max), weights=hist)\n",
    "    ax[0].set_yscale('log')\n",
    "    ax[0].set_xlabel('Net income per sale (€)')\n",
    "    ax[0].set_ylabel('Number of sales')\n",
    "    ax[1].hist(centres, bins=bins, range=(sale_min,sale_max), weights=abs(hist*centres))\n",
    "    ax[1].set_yscale('log')\n",
    "    ax[1].set_xlabel('Net income per sale (€)')\n",
    "    ax[1].set_ylabel('(Number of sales) x (Net Income of the sale)')\n",
    "    plt.show()\n"
   ]
  },
  {
   "cell_type": "markdown",
   "metadata": {},
   "source": [
    "Notes:\n",
    "- There are some sales with VERY high net income, 10s of thousands of euros. Are these errors, i.e. 100,00 comma left out?\n",
    "- Still, the majority of income comes from the low net income transactions, not the large ones. (Note y-axis scale)\n",
    "- Similarly in the restricted range, it looks as if the only purchases that matter on the large scale are the sub 100 ones.\n",
    "- Note that top right plot is very skewed as the centre of the bin is not representative of the mean cost of items inside the bin\n",
    "\n",
    "- This must be a smaller company, the total sales reach 200-300M euros in 2017, small in comparsion to the italian market of 50B per year in 2014\n"
   ]
  },
  {
   "cell_type": "code",
   "execution_count": null,
   "metadata": {},
   "outputs": [],
   "source": [
    "sales"
   ]
  },
  {
   "cell_type": "code",
   "execution_count": null,
   "metadata": {},
   "outputs": [],
   "source": []
  }
 ],
 "metadata": {
  "kernelspec": {
   "display_name": "Python (fashion)",
   "language": "python",
   "name": "fashion"
  },
  "language_info": {
   "codemirror_mode": {
    "name": "ipython",
    "version": 3
   },
   "file_extension": ".py",
   "mimetype": "text/x-python",
   "name": "python",
   "nbconvert_exporter": "python",
   "pygments_lexer": "ipython3",
   "version": "3.7.4"
  }
 },
 "nbformat": 4,
 "nbformat_minor": 4
}
