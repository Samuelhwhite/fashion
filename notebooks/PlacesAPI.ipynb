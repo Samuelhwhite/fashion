{
 "cells": [
  {
   "cell_type": "code",
   "execution_count": null,
   "metadata": {},
   "outputs": [],
   "source": [
    "import matplotlib.pyplot as plt\n",
    "from pprint import pprint\n",
    "import sys\n",
    "sys.path.insert(0, '..')\n",
    "from fashion import utils\n",
    "\n",
    "# show all results of the notebook not just the last one\n",
    "from IPython.core.interactiveshell import InteractiveShell\n",
    "InteractiveShell.ast_node_interactivity = \"all\""
   ]
  },
  {
   "cell_type": "code",
   "execution_count": null,
   "metadata": {
    "scrolled": false
   },
   "outputs": [],
   "source": [
    "# get (my private) API key\n",
    "api_key = utils.get_api_key()\n",
    "\n",
    "# load the shops data\n",
    "shops = utils.load_shops('../data/20200120_filiali.csv')\n",
    "shops.head()\n",
    "\n",
    "# get the google query results (or load them from disk if already queried)\n",
    "import importlib\n",
    "importlib.reload(utils)\n",
    "\n",
    "results = utils.get_city_results()\n",
    "results.keys()"
   ]
  },
  {
   "cell_type": "code",
   "execution_count": null,
   "metadata": {
    "scrolled": false
   },
   "outputs": [],
   "source": [
    "# get geometry\n",
    "italy = utils.get_italian_geometry()\n",
    "\n",
    "# figure\n",
    "fig, ax = plt.subplots(figsize=(20, 20))\n",
    "utils.draw_italy(italy, ax)\n",
    "\n",
    "# extract store locations\n",
    "store_xs = []\n",
    "store_ys = []\n",
    "for city in results:\n",
    "\n",
    "    for result in results[city]:\n",
    "        store_xs.append(result['geometry']['location']['lng'])\n",
    "        store_ys.append(result['geometry']['location']['lat'])\n",
    "\n",
    "_ = ax.scatter(store_xs, store_ys, marker='.', color='tomato')\n",
    "        \n",
    "plt.show()\n"
   ]
  },
  {
   "cell_type": "code",
   "execution_count": null,
   "metadata": {
    "scrolled": false
   },
   "outputs": [],
   "source": [
    "\n",
    "shops.head()\n",
    "italy.bounds\n",
    "    \n",
    "res = utils.query_places('clothes shops near afragola')\n",
    "print(len(res))\n"
   ]
  },
  {
   "cell_type": "code",
   "execution_count": null,
   "metadata": {
    "scrolled": false
   },
   "outputs": [],
   "source": []
  },
  {
   "cell_type": "code",
   "execution_count": null,
   "metadata": {},
   "outputs": [],
   "source": []
  }
 ],
 "metadata": {
  "kernelspec": {
   "display_name": "Python (fashion)",
   "language": "python",
   "name": "fashion"
  },
  "language_info": {
   "codemirror_mode": {
    "name": "ipython",
    "version": 3
   },
   "file_extension": ".py",
   "mimetype": "text/x-python",
   "name": "python",
   "nbconvert_exporter": "python",
   "pygments_lexer": "ipython3",
   "version": "3.7.4"
  }
 },
 "nbformat": 4,
 "nbformat_minor": 4
}
