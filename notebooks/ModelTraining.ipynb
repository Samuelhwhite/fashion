{
 "cells": [
  {
   "cell_type": "code",
   "execution_count": null,
   "metadata": {},
   "outputs": [],
   "source": [
    "import pandas as pd\n",
    "import numpy as np\n",
    "import sys\n",
    "sys.path.insert(0, '..')\n",
    "import fashion.preprocessing as prep\n",
    "from fashion import utils\n",
    "\n",
    "import matplotlib.pyplot as plt\n",
    "from sklearn.model_selection import train_test_split\n",
    "\n",
    "# show all results of the notebook not just the last one\n",
    "from IPython.core.interactiveshell import InteractiveShell\n",
    "InteractiveShell.ast_node_interactivity = \"all\""
   ]
  },
  {
   "cell_type": "code",
   "execution_count": null,
   "metadata": {},
   "outputs": [],
   "source": [
    "# import the dataset\n",
    "df = pd.read_csv(utils.loc / 'data' / 'basic_2017.csv')\n",
    "Xp = df[['Week', 'Franchise', 'Gender', 'Season', 'OriginalListedPrice']]\n",
    "Xp.head()\n",
    "Xp.dtypes\n",
    "Y = df['Volume']"
   ]
  },
  {
   "cell_type": "code",
   "execution_count": null,
   "metadata": {},
   "outputs": [],
   "source": [
    "for feature in Xp.columns:\n",
    "    dtype = X.dtypes[feature]\n",
    "    if dtype == np.bool:\n",
    "        print('changing to numerical')\n",
    "        X[feature] = X[feature].astype(int)\n",
    "X = pd.get_dummies(Xp)\n",
    "X.head()"
   ]
  },
  {
   "cell_type": "code",
   "execution_count": null,
   "metadata": {},
   "outputs": [],
   "source": [
    "from sklearn.ensemble import GradientBoostingRegressor\n",
    "X_train, X_test, Y_train, Y_test = train_test_split(X, Y, train_size=0.01)"
   ]
  },
  {
   "cell_type": "code",
   "execution_count": null,
   "metadata": {
    "scrolled": false
   },
   "outputs": [],
   "source": [
    "n_estimators = 100\n",
    "model = GradientBoostingRegressor(verbose=1, n_estimators=n_estimators)\n",
    "_ = model.fit(X_train, Y_train)"
   ]
  },
  {
   "cell_type": "code",
   "execution_count": null,
   "metadata": {},
   "outputs": [],
   "source": [
    "stages = range(n_estimators)\n",
    "val_loss = []\n",
    "train_loss = []\n",
    "for y_pred in model.staged_predict(X_test):\n",
    "    val_loss.append(model.loss_(Y_test, y_pred))\n",
    "for y_pred in model.staged_predict(X_train):\n",
    "    train_loss.append(model.loss_(Y_train, y_pred))\n",
    "\n",
    "fig, ax = plt.subplots()\n",
    "ax.plot(stages, val_loss, label='validation loss')\n",
    "ax.plot(stages, train_loss, label='train loss')\n",
    "ax.legend()\n",
    "ax.set_xlabel('Training stage')\n",
    "ax.set_ylabel('Loss')"
   ]
  },
  {
   "cell_type": "code",
   "execution_count": null,
   "metadata": {},
   "outputs": [],
   "source": [
    "Y_train.mean()"
   ]
  },
  {
   "cell_type": "code",
   "execution_count": null,
   "metadata": {},
   "outputs": [],
   "source": []
  }
 ],
 "metadata": {
  "kernelspec": {
   "display_name": "Python (fashion)",
   "language": "python",
   "name": "fashion"
  },
  "language_info": {
   "codemirror_mode": {
    "name": "ipython",
    "version": 3
   },
   "file_extension": ".py",
   "mimetype": "text/x-python",
   "name": "python",
   "nbconvert_exporter": "python",
   "pygments_lexer": "ipython3",
   "version": "3.7.4"
  }
 },
 "nbformat": 4,
 "nbformat_minor": 4
}
